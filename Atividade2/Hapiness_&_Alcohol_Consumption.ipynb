{
 "cells": [
  {
   "cell_type": "markdown",
   "id": "b481cb34",
   "metadata": {},
   "source": [
    "- **Lorrana Flores**\n",
    "- **Atividade 2**\n",
    "- **Disciplina PEX812.**"
   ]
  },
  {
   "cell_type": "markdown",
   "id": "acc1ba74",
   "metadata": {},
   "source": [
    "Importando as bibliotecas que serão usadas neste notebook"
   ]
  },
  {
   "cell_type": "code",
   "execution_count": 2,
   "id": "308d93cd44d3d5e9",
   "metadata": {
    "tags": [
     "hide-input"
    ]
   },
   "outputs": [],
   "source": [
    "import pandas as pd\n",
    "import numpy as np\n",
    "import matplotlib.pyplot as plt\n",
    "import seaborn as sns"
   ]
  },
  {
   "cell_type": "markdown",
   "id": "722a7346",
   "metadata": {},
   "source": [
    "Importando o conjunto de dados"
   ]
  },
  {
   "cell_type": "code",
   "execution_count": 3,
   "id": "4255c95d",
   "metadata": {},
   "outputs": [],
   "source": [
    "df = pd.read_excel('happiness.xlsx')"
   ]
  },
  {
   "cell_type": "markdown",
   "id": "0d7f851f",
   "metadata": {},
   "source": [
    "Considere o banco de dados (Happiness and Alcohol Consumption) extraído da Kaggle. O objetivo desta base de dados é prever o grau de felicidade de cada país (0 a 10) a partir dos indicadores IDH, PIB per capita e consumo per capita, de cerveja, drinks e vinho em cada país. O PIB per capita e o consumo de vinho forma transformado via logaritmo natural eliminando a  forte assimetria.\n",
    "\n",
    "Utilizando algum software apropriado, responda:"
   ]
  },
  {
   "cell_type": "markdown",
   "id": "210f0cdf906d8f1e",
   "metadata": {},
   "source": [
    "###### a. Quais países são outliers em um box-plot da variável \"GDP_PerCapita\"?"
   ]
  },
  {
   "cell_type": "code",
   "execution_count": 4,
   "id": "2980c42ce7a1f18d",
   "metadata": {
    "ExecuteTime": {
     "end_time": "2023-09-05T19:33:20.459054242Z",
     "start_time": "2023-09-05T19:33:20.341721391Z"
    }
   },
   "outputs": [
    {
     "name": "stdout",
     "output_type": "stream",
     "text": [
      "Visualizando o perfil de distribuição da variável GDP_PerCapita\n"
     ]
    },
    {
     "data": {
      "image/png": "[encoded data removed]",
      "text/plain": [
       "<Figure size 432x288 with 1 Axes>"
      ]
     },
     "metadata": {
      "needs_background": "light"
     },
     "output_type": "display_data"
    }
   ],
   "source": [
    "print('Visualizando o perfil de distribuição da variável GDP_PerCapita')\n",
    "sns.boxplot(x=df['GDP_PerCapita'])\n",
    "plt.show()"
   ]
  },
  {
   "cell_type": "code",
   "execution_count": 4,
   "id": "4312a15e44310899",
   "metadata": {
    "ExecuteTime": {
     "end_time": "2023-09-05T19:33:20.468707872Z",
     "start_time": "2023-09-05T19:33:20.462395945Z"
    }
   },
   "outputs": [],
   "source": [
    "# Aqui estão os passos gerais para identificar outliers em um box-plot:\n",
    "# Calcule o IQR (intervalo interquartil):\n",
    "# IQR = Q3 (terceiro quartil) - Q1 (primeiro quartil)\n",
    "# Calcule os limites inferior e superior:\n",
    "# Limite Inferior = Q1 - 1,5 * IQR\n",
    "# Limite Superior = Q3 + 1,5 * IQR\n",
    "# Identifique os pontos de dados que estão abaixo do limite inferior ou acima do limite superior. \n",
    "# Esses pontos são considerados outliers."
   ]
  },
  {
   "cell_type": "code",
   "execution_count": 5,
   "id": "53028ad56eee68e7",
   "metadata": {
    "ExecuteTime": {
     "end_time": "2023-09-05T19:33:20.517694173Z",
     "start_time": "2023-09-05T19:33:20.467700084Z"
    }
   },
   "outputs": [
    {
     "name": "stdout",
     "output_type": "stream",
     "text": [
      "GDP_PerCapita dos Países considerados outliers.\n"
     ]
    },
    {
     "data": {
      "text/html": [
       "<div>\n",
       "<style scoped>\n",
       "    .dataframe tbody tr th:only-of-type {\n",
       "        vertical-align: middle;\n",
       "    }\n",
       "\n",
       "    .dataframe tbody tr th {\n",
       "        vertical-align: top;\n",
       "    }\n",
       "\n",
       "    .dataframe thead th {\n",
       "        text-align: right;\n",
       "    }\n",
       "</style>\n",
       "<table border=\"1\" class=\"dataframe\">\n",
       "  <thead>\n",
       "    <tr style=\"text-align: right;\">\n",
       "      <th></th>\n",
       "      <th>Country</th>\n",
       "      <th>GDP_PerCapita</th>\n",
       "    </tr>\n",
       "  </thead>\n",
       "  <tbody>\n",
       "    <tr>\n",
       "      <th>18</th>\n",
       "      <td>Luxembourg</td>\n",
       "      <td>100.739</td>\n",
       "    </tr>\n",
       "    <tr>\n",
       "      <th>1</th>\n",
       "      <td>Switzerland</td>\n",
       "      <td>79.866</td>\n",
       "    </tr>\n",
       "    <tr>\n",
       "      <th>3</th>\n",
       "      <td>Norway</td>\n",
       "      <td>70.890</td>\n",
       "    </tr>\n",
       "    <tr>\n",
       "      <th>17</th>\n",
       "      <td>Ireland</td>\n",
       "      <td>64.100</td>\n",
       "    </tr>\n",
       "    <tr>\n",
       "      <th>2</th>\n",
       "      <td>Iceland</td>\n",
       "      <td>60.530</td>\n",
       "    </tr>\n",
       "    <tr>\n",
       "      <th>32</th>\n",
       "      <td>Qatar</td>\n",
       "      <td>59.324</td>\n",
       "    </tr>\n",
       "    <tr>\n",
       "      <th>12</th>\n",
       "      <td>United States</td>\n",
       "      <td>57.589</td>\n",
       "    </tr>\n",
       "    <tr>\n",
       "      <th>20</th>\n",
       "      <td>Singapore</td>\n",
       "      <td>55.243</td>\n",
       "    </tr>\n",
       "    <tr>\n",
       "      <th>0</th>\n",
       "      <td>Denmark</td>\n",
       "      <td>53.579</td>\n",
       "    </tr>\n",
       "    <tr>\n",
       "      <th>9</th>\n",
       "      <td>Sweden</td>\n",
       "      <td>51.845</td>\n",
       "    </tr>\n",
       "    <tr>\n",
       "      <th>8</th>\n",
       "      <td>Australia</td>\n",
       "      <td>49.897</td>\n",
       "    </tr>\n",
       "    <tr>\n",
       "      <th>6</th>\n",
       "      <td>Netherlands</td>\n",
       "      <td>45.638</td>\n",
       "    </tr>\n",
       "  </tbody>\n",
       "</table>\n",
       "</div>"
      ],
      "text/plain": [
       "          Country  GDP_PerCapita\n",
       "18     Luxembourg        100.739\n",
       "1     Switzerland         79.866\n",
       "3          Norway         70.890\n",
       "17        Ireland         64.100\n",
       "2         Iceland         60.530\n",
       "32          Qatar         59.324\n",
       "12  United States         57.589\n",
       "20      Singapore         55.243\n",
       "0         Denmark         53.579\n",
       "9          Sweden         51.845\n",
       "8       Australia         49.897\n",
       "6     Netherlands         45.638"
      ]
     },
     "execution_count": 5,
     "metadata": {},
     "output_type": "execute_result"
    }
   ],
   "source": [
    "# Calculando quais países correspondem aos outliers\n",
    "q1 = np.percentile(df['GDP_PerCapita'], 25)\n",
    "q3 = np.percentile(df['GDP_PerCapita'], 75)\n",
    "iqr = q3 - q1\n",
    "li = q1 - (1.5*iqr)\n",
    "ls = q3 + (1.5*iqr)\n",
    "df_outliers_gdp = df[['Country','GDP_PerCapita']][(df['GDP_PerCapita'] > ls)].sort_values(by='GDP_PerCapita', ascending=False)\n",
    "print('GDP_PerCapita dos Países considerados outliers.')\n",
    "df_outliers_gdp"
   ]
  },
  {
   "cell_type": "markdown",
   "id": "1a054d56ad1cc22a",
   "metadata": {},
   "source": [
    "###### b. Faça uma análise descrita de todas as variáveis deste arquivo. Quais variávies têm outliers?"
   ]
  },
  {
   "cell_type": "code",
   "execution_count": 6,
   "id": "394fc85d5ffadb0a",
   "metadata": {
    "ExecuteTime": {
     "end_time": "2023-09-05T19:33:20.518464921Z",
     "start_time": "2023-09-05T19:33:20.513895300Z"
    }
   },
   "outputs": [
    {
     "name": "stdout",
     "output_type": "stream",
     "text": [
      "Tipo das variáveis presentes no dataset:\n"
     ]
    },
    {
     "data": {
      "text/plain": [
       "Country              object\n",
       "Region               object\n",
       "Hemisphere           object\n",
       "HappinessScore      float64\n",
       "HDI                   int64\n",
       "GDP_PerCapita       float64\n",
       "Beer_PerCapita        int64\n",
       "Spirit_PerCapita      int64\n",
       "Wine_PerCapita        int64\n",
       "logwine             float64\n",
       "loggdp              float64\n",
       "dtype: object"
      ]
     },
     "execution_count": 6,
     "metadata": {},
     "output_type": "execute_result"
    }
   ],
   "source": [
    "print('Tipo das variáveis presentes no dataset:')\n",
    "df.dtypes"
   ]
  },
  {
   "cell_type": "markdown",
   "id": "3862915255b428f1",
   "metadata": {},
   "source": [
    "Variáveis qualitativas:\n",
    "- Country\n",
    "- Region\n",
    "- Hemisphere"
   ]
  },
  {
   "cell_type": "code",
   "execution_count": 7,
   "id": "bd77701f5cfbc2df",
   "metadata": {
    "ExecuteTime": {
     "end_time": "2023-09-05T19:33:20.518891260Z",
     "start_time": "2023-09-05T19:33:20.514024980Z"
    }
   },
   "outputs": [
    {
     "name": "stdout",
     "output_type": "stream",
     "text": [
      "O conjunto de dados possui estatísticas relativas a 122 países.\n"
     ]
    }
   ],
   "source": [
    "# Country\n",
    "ncountry = df['Country'].nunique()\n",
    "print(f'O conjunto de dados possui estatísticas relativas a {ncountry} países.')"
   ]
  },
  {
   "cell_type": "code",
   "execution_count": 8,
   "id": "45c619830d24c8fa",
   "metadata": {
    "ExecuteTime": {
     "end_time": "2023-09-05T19:33:20.519576649Z",
     "start_time": "2023-09-05T19:33:20.514099229Z"
    }
   },
   "outputs": [
    {
     "name": "stdout",
     "output_type": "stream",
     "text": [
      "O conjunto de dados possui estatísticas relativas a 9 regiões do mundo.\n",
      "\n",
      " As regiões são:\n",
      "- Western Europe\n",
      "- North America\n",
      "- Australia and New Zealand\n",
      "- Middle East and Northern Africa\n",
      "- Latin America and Caribbean\n",
      "- Southeastern Asia\n",
      "- Central and Eastern Europe\n",
      "- Eastern Asia\n",
      "- Sub-Saharan Africa\n",
      "\n",
      " Número de países por região: \n",
      "\n"
     ]
    },
    {
     "data": {
      "text/html": [
       "<div>\n",
       "<style scoped>\n",
       "    .dataframe tbody tr th:only-of-type {\n",
       "        vertical-align: middle;\n",
       "    }\n",
       "\n",
       "    .dataframe tbody tr th {\n",
       "        vertical-align: top;\n",
       "    }\n",
       "\n",
       "    .dataframe thead th {\n",
       "        text-align: right;\n",
       "    }\n",
       "</style>\n",
       "<table border=\"1\" class=\"dataframe\">\n",
       "  <thead>\n",
       "    <tr style=\"text-align: right;\">\n",
       "      <th></th>\n",
       "      <th>Country</th>\n",
       "    </tr>\n",
       "    <tr>\n",
       "      <th>Region</th>\n",
       "      <th></th>\n",
       "    </tr>\n",
       "  </thead>\n",
       "  <tbody>\n",
       "    <tr>\n",
       "      <th>Australia and New Zealand</th>\n",
       "      <td>2</td>\n",
       "    </tr>\n",
       "    <tr>\n",
       "      <th>Central and Eastern Europe</th>\n",
       "      <td>27</td>\n",
       "    </tr>\n",
       "    <tr>\n",
       "      <th>Eastern Asia</th>\n",
       "      <td>4</td>\n",
       "    </tr>\n",
       "    <tr>\n",
       "      <th>Latin America and Caribbean</th>\n",
       "      <td>23</td>\n",
       "    </tr>\n",
       "    <tr>\n",
       "      <th>Middle East and Northern Africa</th>\n",
       "      <td>11</td>\n",
       "    </tr>\n",
       "    <tr>\n",
       "      <th>North America</th>\n",
       "      <td>2</td>\n",
       "    </tr>\n",
       "    <tr>\n",
       "      <th>Southeastern Asia</th>\n",
       "      <td>5</td>\n",
       "    </tr>\n",
       "    <tr>\n",
       "      <th>Sub-Saharan Africa</th>\n",
       "      <td>28</td>\n",
       "    </tr>\n",
       "    <tr>\n",
       "      <th>Western Europe</th>\n",
       "      <td>20</td>\n",
       "    </tr>\n",
       "  </tbody>\n",
       "</table>\n",
       "</div>"
      ],
      "text/plain": [
       "                                 Country\n",
       "Region                                  \n",
       "Australia and New Zealand              2\n",
       "Central and Eastern Europe            27\n",
       "Eastern Asia                           4\n",
       "Latin America and Caribbean           23\n",
       "Middle East and Northern Africa       11\n",
       "North America                          2\n",
       "Southeastern Asia                      5\n",
       "Sub-Saharan Africa                    28\n",
       "Western Europe                        20"
      ]
     },
     "execution_count": 8,
     "metadata": {},
     "output_type": "execute_result"
    }
   ],
   "source": [
    "# Region\n",
    "nregion = df['Region'].nunique()\n",
    "uregion = df['Region'].unique()\n",
    "print(f'O conjunto de dados possui estatísticas relativas a {nregion} regiões do mundo.')\n",
    "print('\\n As regiões são:')\n",
    "for i in uregion: print('-', i)\n",
    "print('\\n Número de países por região: \\n')\n",
    "df[['Country','Region']].groupby(by='Region').count()"
   ]
  },
  {
   "cell_type": "code",
   "execution_count": 5,
   "id": "f6357b9cb1825a75",
   "metadata": {
    "ExecuteTime": {
     "end_time": "2023-09-05T19:33:20.599252705Z",
     "start_time": "2023-09-05T19:33:20.561812952Z"
    }
   },
   "outputs": [
    {
     "name": "stdout",
     "output_type": "stream",
     "text": [
      "O conjunto de dados contém países nos seguintes hemisférios\n",
      "north\n",
      "south\n",
      "both\n",
      "\n",
      " Número de países por hemisfério: \n",
      "\n"
     ]
    },
    {
     "data": {
      "text/html": [
       "<div>\n",
       "<style scoped>\n",
       "    .dataframe tbody tr th:only-of-type {\n",
       "        vertical-align: middle;\n",
       "    }\n",
       "\n",
       "    .dataframe tbody tr th {\n",
       "        vertical-align: top;\n",
       "    }\n",
       "\n",
       "    .dataframe thead th {\n",
       "        text-align: right;\n",
       "    }\n",
       "</style>\n",
       "<table border=\"1\" class=\"dataframe\">\n",
       "  <thead>\n",
       "    <tr style=\"text-align: right;\">\n",
       "      <th></th>\n",
       "      <th>Hemisphere</th>\n",
       "      <th>Country</th>\n",
       "    </tr>\n",
       "  </thead>\n",
       "  <tbody>\n",
       "    <tr>\n",
       "      <th>0</th>\n",
       "      <td>both</td>\n",
       "      <td>5</td>\n",
       "    </tr>\n",
       "    <tr>\n",
       "      <th>1</th>\n",
       "      <td>north</td>\n",
       "      <td>96</td>\n",
       "    </tr>\n",
       "    <tr>\n",
       "      <th>2</th>\n",
       "      <td>south</td>\n",
       "      <td>21</td>\n",
       "    </tr>\n",
       "  </tbody>\n",
       "</table>\n",
       "</div>"
      ],
      "text/plain": [
       "  Hemisphere  Country\n",
       "0       both        5\n",
       "1      north       96\n",
       "2      south       21"
      ]
     },
     "execution_count": 5,
     "metadata": {},
     "output_type": "execute_result"
    }
   ],
   "source": [
    "# Hemisphere\n",
    "df['Hemisphere'].replace('noth', 'north', inplace=True)\n",
    "nhemisphere = df['Hemisphere'].unique()\n",
    "print('O conjunto de dados contém países nos seguintes hemisférios')\n",
    "for i in nhemisphere: print(i)\n",
    "print('\\n Número de países por hemisfério: \\n')\n",
    "df[['Country','Hemisphere']].groupby(by='Hemisphere', as_index=False).count()\n"
   ]
  },
  {
   "cell_type": "markdown",
   "id": "ba4b0aa57a6b6634",
   "metadata": {},
   "source": [
    "Variáveis quantitativas\n",
    "- HappinessScore\n",
    "- HDI\n",
    "- GDP_PerCapita\n",
    "- Beer_PerCapita\n",
    "- Wine_PerCapita\n",
    "- logwine"
   ]
  },
  {
   "cell_type": "code",
   "execution_count": 10,
   "id": "71e7d33f228f5b7f",
   "metadata": {
    "ExecuteTime": {
     "end_time": "2023-09-05T19:33:22.108748373Z",
     "start_time": "2023-09-05T19:33:20.562034372Z"
    }
   },
   "outputs": [
    {
     "data": {
      "image/png": "[encoded data removed]",
      "text/plain": [
       "<Figure size 1080x432 with 6 Axes>"
      ]
     },
     "metadata": {
      "needs_background": "light"
     },
     "output_type": "display_data"
    }
   ],
   "source": [
    "fig, ax = plt.subplots(2, 3, figsize=(15, 6))\n",
    "plt.subplots_adjust(wspace=0.1, hspace=0.4)\n",
    "\n",
    "quant_vars = ['HappinessScore', 'HDI', 'GDP_PerCapita', 'Beer_PerCapita', 'Wine_PerCapita', 'logwine']\n",
    "\n",
    "for i in range(len(quant_vars)):\n",
    "    sns.boxplot(x=df[quant_vars[i]], ax=ax[i//3, i%3]) \n",
    "\n",
    "plt.show()\n"
   ]
  },
  {
   "cell_type": "markdown",
   "id": "a42187cf9ad0c319",
   "metadata": {},
   "source": [
    "As variáveis que possuem outliers são: HDI, GDP_PerCapita e Wine_PerCapita"
   ]
  },
  {
   "cell_type": "markdown",
   "id": "e962107d28c14962",
   "metadata": {},
   "source": [
    "###### c. O que acontece com a assimetria e com os outliers quando é feita uma transformação logarítmica da variável Wine_PerCapita?"
   ]
  },
  {
   "cell_type": "code",
   "execution_count": 11,
   "id": "e2f6f5c70e9739f1",
   "metadata": {
    "ExecuteTime": {
     "end_time": "2023-09-05T19:33:22.108945623Z",
     "start_time": "2023-09-05T19:33:21.106787900Z"
    }
   },
   "outputs": [
    {
     "data": {
      "image/png": "[encoded data removed]",
      "text/plain": [
       "<Figure size 432x288 with 1 Axes>"
      ]
     },
     "metadata": {
      "needs_background": "light"
     },
     "output_type": "display_data"
    }
   ],
   "source": [
    "sns.boxplot(x=df['Wine_PerCapita'].apply(lambda x: np.log10(x)))\n",
    "plt.show()"
   ]
  },
  {
   "cell_type": "markdown",
   "id": "be78e399",
   "metadata": {},
   "source": [
    "Ao aplicar os dados à escala logarítimica há um efeito de achatamento dos valores extremos."
   ]
  },
  {
   "cell_type": "code",
   "execution_count": 23,
   "id": "d0022589",
   "metadata": {},
   "outputs": [
    {
     "name": "stdout",
     "output_type": "stream",
     "text": [
      "Skewness: 1.3975190271811628\n",
      "Curtose: 1.0273148610823952\n",
      "Média: 66.59836065573771\n",
      "Mediana: 16.0\n"
     ]
    },
    {
     "data": {
      "image/png": "[encoded data removed]",
      "text/plain": [
       "<Figure size 432x288 with 1 Axes>"
      ]
     },
     "metadata": {
      "needs_background": "light"
     },
     "output_type": "display_data"
    }
   ],
   "source": [
    "import pandas as pd\n",
    "from scipy.stats import skew, kurtosis\n",
    "\n",
    "# Suponha que você tenha um DataFrame chamado 'df' com uma coluna chamada 'variavel'.\n",
    "# Substitua 'df' e 'variavel' pelos nomes reais do seu DataFrame e coluna.\n",
    "\n",
    "# Calcular a skewness (assimetria)\n",
    "skewness = skew(df['Wine_PerCapita'])\n",
    "print(f'Skewness: {skewness}')\n",
    "\n",
    "# Calcular a curtose (aplatisse)\n",
    "curtose = kurtosis(df['Wine_PerCapita'])\n",
    "print(f'Curtose: {curtose}')\n",
    "\n",
    "mean_wine = df['Wine_PerCapita'].mean()\n",
    "print(f'Média: {mean_wine}')\n",
    "\n",
    "median_wine = df['Wine_PerCapita'].median()\n",
    "print(f'Mediana: {median_wine}')\n",
    "      \n",
    "\n",
    "df['Wine_PerCapita'].hist()\n",
    "\n",
    "plt.show()"
   ]
  },
  {
   "cell_type": "markdown",
   "id": "48c4d004",
   "metadata": {},
   "source": [
    "Antes da transformação, nota-se que a assimetria está fortemente direcionada à direita (assimetria = 1.4)"
   ]
  },
  {
   "cell_type": "code",
   "execution_count": 27,
   "id": "f50d2578",
   "metadata": {},
   "outputs": [
    {
     "name": "stdout",
     "output_type": "stream",
     "text": [
      "Skewness: -0.08020256036695608\n",
      "Curtose: -1.2705858693584953\n",
      "Média: 1.2663276646221029\n",
      "Mediana: 1.2041199826559248\n"
     ]
    },
    {
     "data": {
      "image/png": "[encoded data removed]",
      "text/plain": [
       "<Figure size 432x288 with 1 Axes>"
      ]
     },
     "metadata": {
      "needs_background": "light"
     },
     "output_type": "display_data"
    }
   ],
   "source": [
    "import pandas as pd\n",
    "from scipy.stats import skew, kurtosis\n",
    "\n",
    "# Suponha que você tenha um DataFrame chamado 'df' com uma coluna chamada 'variavel'.\n",
    "# Substitua 'df' e 'variavel' pelos nomes reais do seu DataFrame e coluna.\n",
    "\n",
    "# Calcular a skewness (assimetria)\n",
    "skewness = skew(df['logwine'])\n",
    "print(f'Skewness: {skewness}')\n",
    "\n",
    "# Calcular a curtose (aplatisse)\n",
    "curtose = kurtosis(df['logwine'])\n",
    "print(f'Curtose: {curtose}')\n",
    "\n",
    "mean_logwine = df['logwine'].mean()\n",
    "print(f'Média: {mean_logwine}')\n",
    "\n",
    "median_logwine = df['logwine'].median()\n",
    "print(f'Mediana: {median_logwine}')\n",
    "\n",
    "df['logwine'].hist()\n",
    "\n",
    "plt.show()"
   ]
  },
  {
   "cell_type": "markdown",
   "id": "c38564f2",
   "metadata": {},
   "source": [
    "Após a transformação a variável assume uma distribuição aproximadamente simétrica (assimetria=0.08)"
   ]
  },
  {
   "cell_type": "markdown",
   "id": "142536cb133a8b24",
   "metadata": {},
   "source": [
    "###### d. Há erros na variável \"Hemisphere\". Corrija os erros utlizando a sintaxe R (ou Python)."
   ]
  },
  {
   "cell_type": "markdown",
   "id": "7bfeae063832f56b",
   "metadata": {},
   "source": [
    "Os erros foram corrigidos anteriormente quando foram contabilizados o número de países por Hemisfério."
   ]
  },
  {
   "cell_type": "markdown",
   "id": "eec63d1f92f3585c",
   "metadata": {},
   "source": [
    "###### e. Após corrigir os erros da variável \"Hemisphere\", mostre por meio de box-plots se há diferenças na distribuição \"HappinessScore\" nos países do hemisfério norte e sul. "
   ]
  },
  {
   "cell_type": "code",
   "execution_count": 12,
   "id": "8eb6412619ea32c0",
   "metadata": {
    "ExecuteTime": {
     "end_time": "2023-09-05T19:33:22.109128402Z",
     "start_time": "2023-09-05T19:33:21.131647928Z"
    }
   },
   "outputs": [
    {
     "data": {
      "image/png": "[encoded data removed]",
      "text/plain": [
       "<Figure size 432x288 with 1 Axes>"
      ]
     },
     "metadata": {
      "needs_background": "light"
     },
     "output_type": "display_data"
    }
   ],
   "source": [
    "sns.boxplot(y='HappinessScore', x='Hemisphere', data=df) \n",
    "\n",
    "plt.show()"
   ]
  },
  {
   "cell_type": "markdown",
   "id": "0e754d28",
   "metadata": {},
   "source": [
    "Sim, há diferença na distribuição do HappinessScore por hemisfério."
   ]
  },
  {
   "cell_type": "markdown",
   "id": "965fc1e8770f0fb0",
   "metadata": {},
   "source": [
    "###### f. Qual é a correlação entre \"HappinesseScore\" e \"Wine_PerCapita\"? Interprete este valor. Refaça os cálculos agora utilizando o logaritmo das duas variáveis. Comente as diferenças entre as correlações. "
   ]
  },
  {
   "cell_type": "code",
   "execution_count": 31,
   "id": "3801f0591b36c684",
   "metadata": {
    "ExecuteTime": {
     "end_time": "2023-09-05T19:33:22.109367962Z",
     "start_time": "2023-09-05T19:33:21.224110439Z"
    }
   },
   "outputs": [
    {
     "name": "stdout",
     "output_type": "stream",
     "text": [
      "Correlação:\n",
      "                HappinessScore  Wine_PerCapita\n",
      "HappinessScore        1.000000        0.450589\n",
      "Wine_PerCapita        0.450589        1.000000\n",
      "\n",
      " Gráfico de dispersão\n"
     ]
    },
    {
     "data": {
      "image/png": "[encoded data removed]",
      "text/plain": [
       "<Figure size 432x288 with 1 Axes>"
      ]
     },
     "metadata": {
      "needs_background": "light"
     },
     "output_type": "display_data"
    }
   ],
   "source": [
    "print('Correlação:')\n",
    "print(df[['HappinessScore','Wine_PerCapita']].corr())\n",
    "\n",
    "print('\\n Gráfico de dispersão')\n",
    "sns.scatterplot(data=df, x='HappinessScore' ,y='Wine_PerCapita')\n",
    "plt.show()"
   ]
  },
  {
   "cell_type": "code",
   "execution_count": 32,
   "id": "645acad8ef69a706",
   "metadata": {
    "ExecuteTime": {
     "end_time": "2023-09-05T19:33:22.110079360Z",
     "start_time": "2023-09-05T19:33:21.368179675Z"
    }
   },
   "outputs": [
    {
     "name": "stdout",
     "output_type": "stream",
     "text": [
      "                   HappinessScoreLog  Wine_PerCapitaLog\n",
      "HappinessScoreLog           1.000000           0.466498\n",
      "Wine_PerCapitaLog           0.466498           1.000000\n"
     ]
    },
    {
     "data": {
      "image/png": "[encoded data removed]",
      "text/plain": [
       "<Figure size 432x288 with 1 Axes>"
      ]
     },
     "metadata": {
      "needs_background": "light"
     },
     "output_type": "display_data"
    }
   ],
   "source": [
    "df['HappinessScoreLog'] = df['HappinessScore'].apply(lambda x: np.log10(x))\n",
    "df['Wine_PerCapitaLog'] = df['Wine_PerCapita'].apply(lambda x: np.log10(x))\n",
    "print(df[['HappinessScoreLog','Wine_PerCapitaLog']].corr())\n",
    "sns.scatterplot(data=df, x='HappinessScoreLog' ,y='Wine_PerCapitaLog')\n",
    "plt.show()"
   ]
  },
  {
   "cell_type": "code",
   "execution_count": 15,
   "id": "3119fd7d",
   "metadata": {},
   "outputs": [
    {
     "name": "stdout",
     "output_type": "stream",
     "text": [
      "O tratamento das variáveis por meio de escala logaritimica proporcionou um ganho de 4% na correlação entre as variáveis.\n"
     ]
    }
   ],
   "source": [
    "ganho_corr = round(((0.466498 / 0.450589) -1) * 100)\n",
    "\n",
    "print(f'O tratamento das variáveis por meio de escala logaritimica proporcionou um ganho de {ganho_corr}% na correlação entre as variáveis.')"
   ]
  },
  {
   "cell_type": "markdown",
   "id": "cc180da046b3765b",
   "metadata": {},
   "source": [
    "###### g. Podemos dizer que há relação de causalidade entre as duas variáveis, isto é, consumo de cerveja 'causa\" aumento do escore de felicidade?"
   ]
  },
  {
   "cell_type": "code",
   "execution_count": 16,
   "id": "c11198b6feb5d622",
   "metadata": {
    "ExecuteTime": {
     "end_time": "2023-09-05T19:33:22.110344960Z",
     "start_time": "2023-09-05T19:33:21.565931412Z"
    }
   },
   "outputs": [
    {
     "name": "stdout",
     "output_type": "stream",
     "text": [
      "                Beer_PerCapita  HappinessScore\n",
      "Beer_PerCapita        1.000000        0.493367\n",
      "HappinessScore        0.493367        1.000000\n"
     ]
    }
   ],
   "source": [
    "print(df[['Beer_PerCapita','HappinessScore']].corr())"
   ]
  },
  {
   "cell_type": "code",
   "execution_count": 17,
   "id": "fe59c36cf33cd41",
   "metadata": {
    "ExecuteTime": {
     "end_time": "2023-09-05T19:33:22.110518600Z",
     "start_time": "2023-09-05T19:33:21.566143951Z"
    }
   },
   "outputs": [
    {
     "data": {
      "image/png": "[encoded data removed]",
      "text/plain": [
       "<Figure size 360x360 with 1 Axes>"
      ]
     },
     "metadata": {
      "needs_background": "light"
     },
     "output_type": "display_data"
    }
   ],
   "source": [
    "sns.lmplot(x='Beer_PerCapita', y='HappinessScore', data=df)\n",
    "plt.show()"
   ]
  },
  {
   "cell_type": "markdown",
   "id": "2ef32040",
   "metadata": {
    "ExecuteTime": {
     "end_time": "2023-09-05T19:33:22.110611129Z",
     "start_time": "2023-09-05T19:33:21.884258182Z"
    }
   },
   "source": [
    "Não, podemos dizer que há uma tendência observada de uma correlação positiva entre as variáveis, embora fraca (0.4934)."
   ]
  }
 ],
 "metadata": {
  "hide_input": false,
  "kernelspec": {
   "display_name": "Python 3 (ipykernel)",
   "language": "python",
   "name": "python3"
  },
  "language_info": {
   "codemirror_mode": {
    "name": "ipython",
    "version": 3
   },
   "file_extension": ".py",
   "mimetype": "text/x-python",
   "name": "python",
   "nbconvert_exporter": "python",
   "pygments_lexer": "ipython3",
   "version": "3.9.12"
  }
 },
 "nbformat": 4,
 "nbformat_minor": 5
}
