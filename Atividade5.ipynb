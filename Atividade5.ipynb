{
  "nbformat": 4,
  "nbformat_minor": 0,
  "metadata": {
    "colab": {
      "provenance": [],
      "authorship_tag": "ABX9TyOxDDPm6Y3pFfk9XYdg5r4n",
      "include_colab_link": true
    },
    "kernelspec": {
      "name": "python3",
      "display_name": "Python 3"
    },
    "language_info": {
      "name": "python"
    }
  },
  "cells": [
    {
      "cell_type": "markdown",
      "metadata": {
        "id": "view-in-github",
        "colab_type": "text"
      },
      "source": [
        "<a href=\"https://colab.research.google.com/github/lorranavf/class-machine-learning-pex-812-2023/blob/main/Atividade5.ipynb\" target=\"_parent\"><img src=\"https://colab.research.google.com/assets/colab-badge.svg\" alt=\"Open In Colab\"/></a>"
      ]
    },
    {
      "cell_type": "markdown",
      "source": [
        "\n",
        "\n",
        "# Atividade 5\n",
        "### Lorrana Verdi Flores\n",
        "\n"
      ],
      "metadata": {
        "id": "ZRB_8xElKnR5"
      }
    },
    {
      "cell_type": "markdown",
      "source": [
        "###### Carregando o dataset"
      ],
      "metadata": {
        "id": "aUNtF830OUa9"
      }
    },
    {
      "cell_type": "code",
      "execution_count": null,
      "metadata": {
        "id": "44Orzx27KlyP"
      },
      "outputs": [],
      "source": [
        "import pandas as pd"
      ]
    },
    {
      "cell_type": "code",
      "source": [
        "from google.colab import drive\n",
        "drive.mount(mountpoint='/content/drive')"
      ],
      "metadata": {
        "colab": {
          "base_uri": "https://localhost:8080/"
        },
        "id": "cAcUjoCaKnAx",
        "outputId": "dff23f7a-d928-40fb-c00a-3d5f7d38fcc0"
      },
      "execution_count": null,
      "outputs": [
        {
          "output_type": "stream",
          "name": "stdout",
          "text": [
            "Mounted at /content/drive\n"
          ]
        }
      ]
    },
    {
      "cell_type": "code",
      "source": [
        "filename = '/content/drive/MyDrive/Doutorado/Disciplinas/MachineLearning/Atividade5/coronarias.xls'\n",
        "table = pd.read_excel(filename, sheet_name='dados', usecols=['LO3', 'SEXO', 'IDADE1', 'IMC', 'DIAB', 'TRIG', 'GLIC'])"
      ],
      "metadata": {
        "id": "aL91vCgiK1_Z"
      },
      "execution_count": null,
      "outputs": []
    },
    {
      "cell_type": "markdown",
      "source": [
        "###### Análise exploratória"
      ],
      "metadata": {
        "id": "cG2bB0MjOYf0"
      }
    },
    {
      "cell_type": "markdown",
      "source": [
        "**Variáveis**\n",
        "\n",
        "1. LO3,GRAU DA LESAO OBSTRUTIVA [1 >= 50%]\n",
        "2. TRIG,TRIGLICERIDES\n",
        "2. DIAB,DIABETE MELLITUS [0-NAO TEM, 1-TEM]\n",
        "3. GLIC,GLICOSE\n",
        "4. IDADE1,IDADE\n",
        "5. SEXO,SEXO\n",
        "6. IMC,INDICE DE MASSA CORPORAL\n"
      ],
      "metadata": {
        "id": "830DVd5KT4EC"
      }
    },
    {
      "cell_type": "code",
      "source": [
        "colunas = list(table.columns)\n",
        "\n",
        "for coluna in colunas:\n",
        "  print(table[[coluna]].isna().value_counts())"
      ],
      "metadata": {
        "colab": {
          "base_uri": "https://localhost:8080/",
          "height": 0
        },
        "id": "OAyqF1pIMGM2",
        "outputId": "4d5695ee-ed4e-4a70-b01f-3769e9ff9ef5"
      },
      "execution_count": 31,
      "outputs": [
        {
          "output_type": "stream",
          "name": "stdout",
          "text": [
            "TRIG \n",
            "False    1209\n",
            "True      291\n",
            "dtype: int64\n",
            "DIAB \n",
            "False    1389\n",
            "True      111\n",
            "dtype: int64\n",
            "GLIC \n",
            "False    1269\n",
            "True      231\n",
            "dtype: int64\n",
            "IMC  \n",
            "False    1422\n",
            "True       78\n",
            "dtype: int64\n",
            "IDADE1\n",
            "False     1500\n",
            "dtype: int64\n",
            "SEXO \n",
            "False    1500\n",
            "dtype: int64\n",
            "LO3  \n",
            "False    1500\n",
            "dtype: int64\n"
          ]
        }
      ]
    },
    {
      "cell_type": "markdown",
      "source": [
        "**Variáveis com valores missing**\n",
        "\n",
        "1. TRIG\n",
        "2. DIAB\n",
        "3. GLIC\n",
        "4. IMC"
      ],
      "metadata": {
        "id": "Pykp6AnnWKjG"
      }
    },
    {
      "cell_type": "markdown",
      "source": [
        "Irei adotar a estratégia de remoção das observações com dados faltantes."
      ],
      "metadata": {
        "id": "r2-pKfIrpVkX"
      }
    },
    {
      "cell_type": "code",
      "source": [
        "table_nona = table.dropna()\n",
        "table_no_na['LO3'].value_counts()"
      ],
      "metadata": {
        "colab": {
          "base_uri": "https://localhost:8080/",
          "height": 0
        },
        "id": "h2Y2WrswTbx3",
        "outputId": "3a9e6a8c-250d-4c08-b33f-c19768d408c9"
      },
      "execution_count": 50,
      "outputs": [
        {
          "output_type": "execute_result",
          "data": {
            "text/plain": [
              "1    718\n",
              "0    338\n",
              "Name: LO3, dtype: int64"
            ]
          },
          "metadata": {},
          "execution_count": 50
        }
      ]
    },
    {
      "cell_type": "markdown",
      "source": [
        "###### Criando datasets de treino e teste"
      ],
      "metadata": {
        "id": "TRWk9Jk_bEwr"
      }
    },
    {
      "cell_type": "code",
      "source": [
        "from numpy import ravel\n",
        "from sklearn.model_selection import train_test_split\n",
        "X = table_nona.drop(labels='LO3', axis=1)\n",
        "Y = table_nona[['LO3']].values.ravel()\n",
        "X_treino, X_teste, y_treino, y_teste = train_test_split(X, Y, test_size=0.25, random_state=123)\n"
      ],
      "metadata": {
        "id": "v9BQEVkubD9c"
      },
      "execution_count": 74,
      "outputs": []
    },
    {
      "cell_type": "markdown",
      "source": [
        "###### Árvore de decisão"
      ],
      "metadata": {
        "id": "F3N8_zcjOiIF"
      }
    },
    {
      "cell_type": "code",
      "source": [
        "from sklearn.tree import DecisionTreeClassifier\n",
        "\n",
        "# Criar o modelo\n",
        "modelo_arvore = DecisionTreeClassifier()\n",
        "\n",
        "# Treinar o modelo\n",
        "modelo_arvore.fit(X_treino, y_treino)\n",
        "\n",
        "# Fazer previsões\n",
        "previsoes_arvore = modelo_arvore.predict(X_teste)\n"
      ],
      "metadata": {
        "id": "NpXBe3UhLwsq"
      },
      "execution_count": 75,
      "outputs": []
    },
    {
      "cell_type": "markdown",
      "source": [
        "###### Random Forest"
      ],
      "metadata": {
        "id": "5ikS1bljOwOr"
      }
    },
    {
      "cell_type": "code",
      "source": [
        "from sklearn.ensemble import RandomForestClassifier\n",
        "\n",
        "# Criar o modelo\n",
        "modelo_rf = RandomForestClassifier()\n",
        "\n",
        "# Treinar o modelo\n",
        "modelo_rf.fit(X_treino, y_treino)\n",
        "\n",
        "# Fazer previsões\n",
        "previsoes_rf = modelo_rf.predict(X_teste)\n"
      ],
      "metadata": {
        "id": "WGeob-SULgK7"
      },
      "execution_count": 76,
      "outputs": []
    },
    {
      "cell_type": "markdown",
      "source": [
        "###### Bagging"
      ],
      "metadata": {
        "id": "V737GqErPKjo"
      }
    },
    {
      "cell_type": "code",
      "source": [
        "from sklearn.ensemble import BaggingClassifier\n",
        "from sklearn.tree import DecisionTreeClassifier\n",
        "\n",
        "# Criar o modelo de base (por exemplo, Árvore de Decisão)\n",
        "modelo_base = DecisionTreeClassifier()\n",
        "\n",
        "# Criar o modelo Bagging\n",
        "modelo_bagging = BaggingClassifier(estimator=modelo_base)\n",
        "\n",
        "# Treinar o modelo\n",
        "modelo_bagging.fit(X_treino, y_treino)\n",
        "\n",
        "# Fazer previsões\n",
        "previsoes_bagging = modelo_bagging.predict(X_teste)\n"
      ],
      "metadata": {
        "id": "UFrU2fHdPQEe"
      },
      "execution_count": 79,
      "outputs": []
    },
    {
      "cell_type": "markdown",
      "source": [
        "###### Gradient Boosting"
      ],
      "metadata": {
        "id": "Q9Lv_wVQPDEY"
      }
    },
    {
      "cell_type": "code",
      "source": [
        "from sklearn.ensemble import GradientBoostingClassifier\n",
        "\n",
        "# Criar o modelo\n",
        "modelo_gradient_boosting = GradientBoostingClassifier()\n",
        "\n",
        "# Treinar o modelo\n",
        "modelo_gradient_boosting.fit(X_treino, y_treino)\n",
        "\n",
        "# Fazer previsões\n",
        "previsoes_gradient_boosting = modelo_gradient_boosting.predict(X_teste)\n"
      ],
      "metadata": {
        "id": "DbmI8wp2PSye"
      },
      "execution_count": 80,
      "outputs": []
    },
    {
      "cell_type": "markdown",
      "source": [
        "###### AdaBoost"
      ],
      "metadata": {
        "id": "dU7ZKLWVPerS"
      }
    },
    {
      "cell_type": "code",
      "source": [
        "from sklearn.ensemble import AdaBoostClassifier\n",
        "\n",
        "# Criar o modelo\n",
        "modelo_adaboost = AdaBoostClassifier()\n",
        "\n",
        "# Treinar o modelo\n",
        "modelo_adaboost.fit(X_treino, y_treino)\n",
        "\n",
        "# Fazer previsões\n",
        "previsoes_adaboost = modelo_adaboost.predict(X_teste)\n"
      ],
      "metadata": {
        "id": "ehoPOfLiPdAG"
      },
      "execution_count": 81,
      "outputs": []
    },
    {
      "cell_type": "markdown",
      "source": [
        "###### XGBoost"
      ],
      "metadata": {
        "id": "_YcQR_xrPk9G"
      }
    },
    {
      "cell_type": "code",
      "source": [
        "from xgboost import XGBClassifier\n",
        "\n",
        "# Criar o modelo\n",
        "modelo_xgboost = XGBClassifier()\n",
        "\n",
        "# Treinar o modelo\n",
        "modelo_xgboost.fit(X_treino, y_treino)\n",
        "\n",
        "# Fazer previsões\n",
        "previsoes_xgboost = modelo_xgboost.predict(X_teste)\n"
      ],
      "metadata": {
        "id": "rS2GmS1WPnmc"
      },
      "execution_count": 82,
      "outputs": []
    },
    {
      "cell_type": "markdown",
      "source": [
        "###### Métricas: Acurácia, Precisão, Recall, F1, Cohen's Kappa"
      ],
      "metadata": {
        "id": "501JzfDVPqxI"
      }
    },
    {
      "cell_type": "code",
      "source": [
        "from sklearn.metrics import accuracy_score, precision_score, recall_score, f1_score, cohen_kappa_score\n",
        "\n",
        "classificadores = ['arvore', 'rf', 'bagging', 'gradient_boosting', 'adaboost', 'xgboost']\n",
        "previsoes = [previsoes_arvore, previsoes_rf, previsoes_bagging, previsoes_gradient_boosting, previsoes_adaboost, previsoes_xgboost]\n",
        "\n",
        "resultados = {}\n",
        "\n",
        "for model, previsao in zip(classificadores, previsoes):\n",
        "    acuracia = accuracy_score(y_teste, previsao)\n",
        "    precisao = precision_score(y_teste, previsao)\n",
        "    recall = recall_score(y_teste, previsao)\n",
        "    f1 = f1_score(y_teste, previsao)\n",
        "    kappa = cohen_kappa_score(y_teste, previsao)\n",
        "\n",
        "    resultados[model] = {\n",
        "        'Accuracy': acuracia,\n",
        "        'Precision': precisao,\n",
        "        'Recall': recall,\n",
        "        'F1_Score': f1,\n",
        "        'Cohen\\'s_Kappa': kappa\n",
        "    }\n",
        "\n",
        "df_resultados = pd.DataFrame(resultados).T\n",
        "df_resultados"
      ],
      "metadata": {
        "id": "ZZUXHGKVQs0l",
        "colab": {
          "base_uri": "https://localhost:8080/",
          "height": 237
        },
        "outputId": "44ffed95-1ffd-4abd-b04a-82f24609f8ef"
      },
      "execution_count": 100,
      "outputs": [
        {
          "output_type": "execute_result",
          "data": {
            "text/plain": [
              "                   Accuracy  Precision    Recall  F1_Score  Cohen's_Kappa\n",
              "arvore             0.617424   0.707865  0.720000  0.713881       0.136864\n",
              "rf                 0.670455   0.705607  0.862857  0.776350       0.173694\n",
              "bagging            0.621212   0.700535  0.748571  0.723757       0.123448\n",
              "gradient_boosting  0.708333   0.720721  0.914286  0.806045       0.250111\n",
              "adaboost           0.708333   0.731132  0.885714  0.801034       0.273169\n",
              "xgboost            0.647727   0.688073  0.857143  0.763359       0.105639"
            ],
            "text/html": [
              "\n",
              "  <div id=\"df-91e5dbde-2a3a-4a50-9711-4477a293b2ae\" class=\"colab-df-container\">\n",
              "    <div>\n",
              "<style scoped>\n",
              "    .dataframe tbody tr th:only-of-type {\n",
              "        vertical-align: middle;\n",
              "    }\n",
              "\n",
              "    .dataframe tbody tr th {\n",
              "        vertical-align: top;\n",
              "    }\n",
              "\n",
              "    .dataframe thead th {\n",
              "        text-align: right;\n",
              "    }\n",
              "</style>\n",
              "<table border=\"1\" class=\"dataframe\">\n",
              "  <thead>\n",
              "    <tr style=\"text-align: right;\">\n",
              "      <th></th>\n",
              "      <th>Accuracy</th>\n",
              "      <th>Precision</th>\n",
              "      <th>Recall</th>\n",
              "      <th>F1_Score</th>\n",
              "      <th>Cohen's_Kappa</th>\n",
              "    </tr>\n",
              "  </thead>\n",
              "  <tbody>\n",
              "    <tr>\n",
              "      <th>arvore</th>\n",
              "      <td>0.617424</td>\n",
              "      <td>0.707865</td>\n",
              "      <td>0.720000</td>\n",
              "      <td>0.713881</td>\n",
              "      <td>0.136864</td>\n",
              "    </tr>\n",
              "    <tr>\n",
              "      <th>rf</th>\n",
              "      <td>0.670455</td>\n",
              "      <td>0.705607</td>\n",
              "      <td>0.862857</td>\n",
              "      <td>0.776350</td>\n",
              "      <td>0.173694</td>\n",
              "    </tr>\n",
              "    <tr>\n",
              "      <th>bagging</th>\n",
              "      <td>0.621212</td>\n",
              "      <td>0.700535</td>\n",
              "      <td>0.748571</td>\n",
              "      <td>0.723757</td>\n",
              "      <td>0.123448</td>\n",
              "    </tr>\n",
              "    <tr>\n",
              "      <th>gradient_boosting</th>\n",
              "      <td>0.708333</td>\n",
              "      <td>0.720721</td>\n",
              "      <td>0.914286</td>\n",
              "      <td>0.806045</td>\n",
              "      <td>0.250111</td>\n",
              "    </tr>\n",
              "    <tr>\n",
              "      <th>adaboost</th>\n",
              "      <td>0.708333</td>\n",
              "      <td>0.731132</td>\n",
              "      <td>0.885714</td>\n",
              "      <td>0.801034</td>\n",
              "      <td>0.273169</td>\n",
              "    </tr>\n",
              "    <tr>\n",
              "      <th>xgboost</th>\n",
              "      <td>0.647727</td>\n",
              "      <td>0.688073</td>\n",
              "      <td>0.857143</td>\n",
              "      <td>0.763359</td>\n",
              "      <td>0.105639</td>\n",
              "    </tr>\n",
              "  </tbody>\n",
              "</table>\n",
              "</div>\n",
              "    <div class=\"colab-df-buttons\">\n",
              "\n",
              "  <div class=\"colab-df-container\">\n",
              "    <button class=\"colab-df-convert\" onclick=\"convertToInteractive('df-91e5dbde-2a3a-4a50-9711-4477a293b2ae')\"\n",
              "            title=\"Convert this dataframe to an interactive table.\"\n",
              "            style=\"display:none;\">\n",
              "\n",
              "  <svg xmlns=\"http://www.w3.org/2000/svg\" height=\"24px\" viewBox=\"0 -960 960 960\">\n",
              "    <path d=\"M120-120v-720h720v720H120Zm60-500h600v-160H180v160Zm220 220h160v-160H400v160Zm0 220h160v-160H400v160ZM180-400h160v-160H180v160Zm440 0h160v-160H620v160ZM180-180h160v-160H180v160Zm440 0h160v-160H620v160Z\"/>\n",
              "  </svg>\n",
              "    </button>\n",
              "\n",
              "  <style>\n",
              "    .colab-df-container {\n",
              "      display:flex;\n",
              "      gap: 12px;\n",
              "    }\n",
              "\n",
              "    .colab-df-convert {\n",
              "      background-color: #E8F0FE;\n",
              "      border: none;\n",
              "      border-radius: 50%;\n",
              "      cursor: pointer;\n",
              "      display: none;\n",
              "      fill: #1967D2;\n",
              "      height: 32px;\n",
              "      padding: 0 0 0 0;\n",
              "      width: 32px;\n",
              "    }\n",
              "\n",
              "    .colab-df-convert:hover {\n",
              "      background-color: #E2EBFA;\n",
              "      box-shadow: 0px 1px 2px rgba(60, 64, 67, 0.3), 0px 1px 3px 1px rgba(60, 64, 67, 0.15);\n",
              "      fill: #174EA6;\n",
              "    }\n",
              "\n",
              "    .colab-df-buttons div {\n",
              "      margin-bottom: 4px;\n",
              "    }\n",
              "\n",
              "    [theme=dark] .colab-df-convert {\n",
              "      background-color: #3B4455;\n",
              "      fill: #D2E3FC;\n",
              "    }\n",
              "\n",
              "    [theme=dark] .colab-df-convert:hover {\n",
              "      background-color: #434B5C;\n",
              "      box-shadow: 0px 1px 3px 1px rgba(0, 0, 0, 0.15);\n",
              "      filter: drop-shadow(0px 1px 2px rgba(0, 0, 0, 0.3));\n",
              "      fill: #FFFFFF;\n",
              "    }\n",
              "  </style>\n",
              "\n",
              "    <script>\n",
              "      const buttonEl =\n",
              "        document.querySelector('#df-91e5dbde-2a3a-4a50-9711-4477a293b2ae button.colab-df-convert');\n",
              "      buttonEl.style.display =\n",
              "        google.colab.kernel.accessAllowed ? 'block' : 'none';\n",
              "\n",
              "      async function convertToInteractive(key) {\n",
              "        const element = document.querySelector('#df-91e5dbde-2a3a-4a50-9711-4477a293b2ae');\n",
              "        const dataTable =\n",
              "          await google.colab.kernel.invokeFunction('convertToInteractive',\n",
              "                                                    [key], {});\n",
              "        if (!dataTable) return;\n",
              "\n",
              "        const docLinkHtml = 'Like what you see? Visit the ' +\n",
              "          '<a target=\"_blank\" href=https://colab.research.google.com/notebooks/data_table.ipynb>data table notebook</a>'\n",
              "          + ' to learn more about interactive tables.';\n",
              "        element.innerHTML = '';\n",
              "        dataTable['output_type'] = 'display_data';\n",
              "        await google.colab.output.renderOutput(dataTable, element);\n",
              "        const docLink = document.createElement('div');\n",
              "        docLink.innerHTML = docLinkHtml;\n",
              "        element.appendChild(docLink);\n",
              "      }\n",
              "    </script>\n",
              "  </div>\n",
              "\n",
              "\n",
              "<div id=\"df-f57855fd-ad9a-4a21-bd09-12abbbb3656b\">\n",
              "  <button class=\"colab-df-quickchart\" onclick=\"quickchart('df-f57855fd-ad9a-4a21-bd09-12abbbb3656b')\"\n",
              "            title=\"Suggest charts\"\n",
              "            style=\"display:none;\">\n",
              "\n",
              "<svg xmlns=\"http://www.w3.org/2000/svg\" height=\"24px\"viewBox=\"0 0 24 24\"\n",
              "     width=\"24px\">\n",
              "    <g>\n",
              "        <path d=\"M19 3H5c-1.1 0-2 .9-2 2v14c0 1.1.9 2 2 2h14c1.1 0 2-.9 2-2V5c0-1.1-.9-2-2-2zM9 17H7v-7h2v7zm4 0h-2V7h2v10zm4 0h-2v-4h2v4z\"/>\n",
              "    </g>\n",
              "</svg>\n",
              "  </button>\n",
              "\n",
              "<style>\n",
              "  .colab-df-quickchart {\n",
              "      --bg-color: #E8F0FE;\n",
              "      --fill-color: #1967D2;\n",
              "      --hover-bg-color: #E2EBFA;\n",
              "      --hover-fill-color: #174EA6;\n",
              "      --disabled-fill-color: #AAA;\n",
              "      --disabled-bg-color: #DDD;\n",
              "  }\n",
              "\n",
              "  [theme=dark] .colab-df-quickchart {\n",
              "      --bg-color: #3B4455;\n",
              "      --fill-color: #D2E3FC;\n",
              "      --hover-bg-color: #434B5C;\n",
              "      --hover-fill-color: #FFFFFF;\n",
              "      --disabled-bg-color: #3B4455;\n",
              "      --disabled-fill-color: #666;\n",
              "  }\n",
              "\n",
              "  .colab-df-quickchart {\n",
              "    background-color: var(--bg-color);\n",
              "    border: none;\n",
              "    border-radius: 50%;\n",
              "    cursor: pointer;\n",
              "    display: none;\n",
              "    fill: var(--fill-color);\n",
              "    height: 32px;\n",
              "    padding: 0;\n",
              "    width: 32px;\n",
              "  }\n",
              "\n",
              "  .colab-df-quickchart:hover {\n",
              "    background-color: var(--hover-bg-color);\n",
              "    box-shadow: 0 1px 2px rgba(60, 64, 67, 0.3), 0 1px 3px 1px rgba(60, 64, 67, 0.15);\n",
              "    fill: var(--button-hover-fill-color);\n",
              "  }\n",
              "\n",
              "  .colab-df-quickchart-complete:disabled,\n",
              "  .colab-df-quickchart-complete:disabled:hover {\n",
              "    background-color: var(--disabled-bg-color);\n",
              "    fill: var(--disabled-fill-color);\n",
              "    box-shadow: none;\n",
              "  }\n",
              "\n",
              "  .colab-df-spinner {\n",
              "    border: 2px solid var(--fill-color);\n",
              "    border-color: transparent;\n",
              "    border-bottom-color: var(--fill-color);\n",
              "    animation:\n",
              "      spin 1s steps(1) infinite;\n",
              "  }\n",
              "\n",
              "  @keyframes spin {\n",
              "    0% {\n",
              "      border-color: transparent;\n",
              "      border-bottom-color: var(--fill-color);\n",
              "      border-left-color: var(--fill-color);\n",
              "    }\n",
              "    20% {\n",
              "      border-color: transparent;\n",
              "      border-left-color: var(--fill-color);\n",
              "      border-top-color: var(--fill-color);\n",
              "    }\n",
              "    30% {\n",
              "      border-color: transparent;\n",
              "      border-left-color: var(--fill-color);\n",
              "      border-top-color: var(--fill-color);\n",
              "      border-right-color: var(--fill-color);\n",
              "    }\n",
              "    40% {\n",
              "      border-color: transparent;\n",
              "      border-right-color: var(--fill-color);\n",
              "      border-top-color: var(--fill-color);\n",
              "    }\n",
              "    60% {\n",
              "      border-color: transparent;\n",
              "      border-right-color: var(--fill-color);\n",
              "    }\n",
              "    80% {\n",
              "      border-color: transparent;\n",
              "      border-right-color: var(--fill-color);\n",
              "      border-bottom-color: var(--fill-color);\n",
              "    }\n",
              "    90% {\n",
              "      border-color: transparent;\n",
              "      border-bottom-color: var(--fill-color);\n",
              "    }\n",
              "  }\n",
              "</style>\n",
              "\n",
              "  <script>\n",
              "    async function quickchart(key) {\n",
              "      const quickchartButtonEl =\n",
              "        document.querySelector('#' + key + ' button');\n",
              "      quickchartButtonEl.disabled = true;  // To prevent multiple clicks.\n",
              "      quickchartButtonEl.classList.add('colab-df-spinner');\n",
              "      try {\n",
              "        const charts = await google.colab.kernel.invokeFunction(\n",
              "            'suggestCharts', [key], {});\n",
              "      } catch (error) {\n",
              "        console.error('Error during call to suggestCharts:', error);\n",
              "      }\n",
              "      quickchartButtonEl.classList.remove('colab-df-spinner');\n",
              "      quickchartButtonEl.classList.add('colab-df-quickchart-complete');\n",
              "    }\n",
              "    (() => {\n",
              "      let quickchartButtonEl =\n",
              "        document.querySelector('#df-f57855fd-ad9a-4a21-bd09-12abbbb3656b button');\n",
              "      quickchartButtonEl.style.display =\n",
              "        google.colab.kernel.accessAllowed ? 'block' : 'none';\n",
              "    })();\n",
              "  </script>\n",
              "</div>\n",
              "    </div>\n",
              "  </div>\n"
            ]
          },
          "metadata": {},
          "execution_count": 100
        }
      ]
    },
    {
      "cell_type": "markdown",
      "source": [
        "###### Conclusão"
      ],
      "metadata": {
        "id": "U0Sv88-4RQ_B"
      }
    },
    {
      "cell_type": "markdown",
      "source": [
        "Nesse caso específico, onde foram eliminados os valores missing e há um desequilíbrio entre as classes, consideraria como melhor modelo o \"gradient_boosting\", pois ele apresentou uma melhor estimativa F1-Score que consiste no balanceamento entre a a capacidade do modelo entre diferenciar falsos negativos e falsos positivos.\n",
        "\n"
      ],
      "metadata": {
        "id": "FPIJmxnURWhP"
      }
    }
  ]
}