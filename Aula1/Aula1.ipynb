{
 "cells": [
  {
   "cell_type": "markdown",
   "id": "c2f9e3f83de9bcf1",
   "metadata": {},
   "source": [
    "### Aula prática 1 - Análise exploratória de dados"
   ]
  },
  {
   "cell_type": "code",
   "execution_count": 196,
   "id": "3a56d8f346f445f6",
   "metadata": {
    "ExecuteTime": {
     "end_time": "2023-09-04T23:01:23.901518979Z",
     "start_time": "2023-09-04T23:01:23.806194503Z"
    }
   },
   "outputs": [],
   "source": [
    "# importando bibliotecas \n",
    "import math\n",
    "import pandas as pd\n",
    "import numpy as np\n",
    "import matplotlib.pyplot as plt\n",
    "import seaborn as sns"
   ]
  },
  {
   "cell_type": "code",
   "execution_count": 197,
   "id": "97e4528c53303db2",
   "metadata": {
    "ExecuteTime": {
     "end_time": "2023-09-04T23:01:24.341571223Z",
     "start_time": "2023-09-04T23:01:23.823886971Z"
    }
   },
   "outputs": [],
   "source": [
    "# lendo a tabela no formato xlsx\n",
    "table = pd.read_excel('aula1.xlsx')"
   ]
  },
  {
   "cell_type": "code",
   "execution_count": 198,
   "id": "4ca517175f5a461b",
   "metadata": {
    "ExecuteTime": {
     "end_time": "2023-09-04T23:01:24.342753080Z",
     "start_time": "2023-09-04T23:01:24.341254764Z"
    }
   },
   "outputs": [
    {
     "data": {
      "text/plain": "    CLIENTE STATUS  IDADE UNIFED RESID  TMPRSD  FONE ECIV INSTRU  RNDTOT  RST\n0  CLI_0001    mau   44.0     MG  PROP     5.0     1  CAS    SEC    6040  sim\n1  CLI_0002    bom   46.0     MG  ALUG    12.0     1  CAS    SUP    6986  sim\n2  CLI_0003    bom   56.0     MG  PROP    12.0     1  CAS    SUP    8797  sim\n3  CLI_0004    bom   31.0     RJ  ALUG     4.0     1  CAS    SEC    4968  sim\n4  CLI_0005    bom   46.0     RJ  PROP     8.0     1  CAS    NaN    7430  sim",
      "text/html": "<div>\n<style scoped>\n    .dataframe tbody tr th:only-of-type {\n        vertical-align: middle;\n    }\n\n    .dataframe tbody tr th {\n        vertical-align: top;\n    }\n\n    .dataframe thead th {\n        text-align: right;\n    }\n</style>\n<table border=\"1\" class=\"dataframe\">\n  <thead>\n    <tr style=\"text-align: right;\">\n      <th></th>\n      <th>CLIENTE</th>\n      <th>STATUS</th>\n      <th>IDADE</th>\n      <th>UNIFED</th>\n      <th>RESID</th>\n      <th>TMPRSD</th>\n      <th>FONE</th>\n      <th>ECIV</th>\n      <th>INSTRU</th>\n      <th>RNDTOT</th>\n      <th>RST</th>\n    </tr>\n  </thead>\n  <tbody>\n    <tr>\n      <th>0</th>\n      <td>CLI_0001</td>\n      <td>mau</td>\n      <td>44.0</td>\n      <td>MG</td>\n      <td>PROP</td>\n      <td>5.0</td>\n      <td>1</td>\n      <td>CAS</td>\n      <td>SEC</td>\n      <td>6040</td>\n      <td>sim</td>\n    </tr>\n    <tr>\n      <th>1</th>\n      <td>CLI_0002</td>\n      <td>bom</td>\n      <td>46.0</td>\n      <td>MG</td>\n      <td>ALUG</td>\n      <td>12.0</td>\n      <td>1</td>\n      <td>CAS</td>\n      <td>SUP</td>\n      <td>6986</td>\n      <td>sim</td>\n    </tr>\n    <tr>\n      <th>2</th>\n      <td>CLI_0003</td>\n      <td>bom</td>\n      <td>56.0</td>\n      <td>MG</td>\n      <td>PROP</td>\n      <td>12.0</td>\n      <td>1</td>\n      <td>CAS</td>\n      <td>SUP</td>\n      <td>8797</td>\n      <td>sim</td>\n    </tr>\n    <tr>\n      <th>3</th>\n      <td>CLI_0004</td>\n      <td>bom</td>\n      <td>31.0</td>\n      <td>RJ</td>\n      <td>ALUG</td>\n      <td>4.0</td>\n      <td>1</td>\n      <td>CAS</td>\n      <td>SEC</td>\n      <td>4968</td>\n      <td>sim</td>\n    </tr>\n    <tr>\n      <th>4</th>\n      <td>CLI_0005</td>\n      <td>bom</td>\n      <td>46.0</td>\n      <td>RJ</td>\n      <td>PROP</td>\n      <td>8.0</td>\n      <td>1</td>\n      <td>CAS</td>\n      <td>NaN</td>\n      <td>7430</td>\n      <td>sim</td>\n    </tr>\n  </tbody>\n</table>\n</div>"
     },
     "execution_count": 198,
     "metadata": {},
     "output_type": "execute_result"
    }
   ],
   "source": [
    "# imprimindo as 5 primeiras linhas da tabela\n",
    "table.head()"
   ]
  },
  {
   "cell_type": "code",
   "execution_count": 199,
   "id": "786b0b59dec1f17a",
   "metadata": {
    "ExecuteTime": {
     "end_time": "2023-09-04T23:01:24.343264869Z",
     "start_time": "2023-09-04T23:01:24.341429643Z"
    }
   },
   "outputs": [
    {
     "name": "stdout",
     "output_type": "stream",
     "text": [
      "Colunas presentes no dataset\n",
      "CLIENTE\n",
      "STATUS\n",
      "IDADE\n",
      "UNIFED\n",
      "RESID\n",
      "TMPRSD\n",
      "FONE\n",
      "ECIV\n",
      "INSTRU\n",
      "RNDTOT\n",
      "RST\n"
     ]
    }
   ],
   "source": [
    "colunas = [column for column in table.columns]\n",
    "\n",
    "print('Colunas presentes no dataset')\n",
    "\n",
    "for coluna in colunas: print(coluna)"
   ]
  },
  {
   "cell_type": "code",
   "execution_count": 200,
   "id": "4a9f1c678c4097fe",
   "metadata": {
    "ExecuteTime": {
     "end_time": "2023-09-04T23:01:24.343703698Z",
     "start_time": "2023-09-04T23:01:24.341520233Z"
    }
   },
   "outputs": [
    {
     "data": {
      "text/plain": "CLIENTE     object\nSTATUS      object\nIDADE      float64\nUNIFED      object\nRESID       object\nTMPRSD     float64\nFONE         int64\nECIV        object\nINSTRU      object\nRNDTOT       int64\nRST         object\ndtype: object"
     },
     "execution_count": 200,
     "metadata": {},
     "output_type": "execute_result"
    }
   ],
   "source": [
    "table.dtypes"
   ]
  },
  {
   "cell_type": "markdown",
   "id": "bda6533489203b26",
   "metadata": {},
   "source": [
    "### Observações\n",
    "\n",
    "Variáveis qualitativas\n",
    "- UNIFED, RESID, FONE, ECIV, INSTRU, RST\n",
    "\n",
    "Análise Exploratória das variáveis quantitativas\n",
    "- IDADE,  TMPRSD, RNDTOT\n",
    "\n",
    "Variável alvo: \n",
    "- STATUS (define se o cliente tem um bom ou mau histórico de crédito)\n",
    "\n",
    "Variável de identificação dos clientes/instâncias\n",
    "- CLIENTE\n"
   ]
  },
  {
   "cell_type": "code",
   "execution_count": 201,
   "outputs": [
    {
     "name": "stdout",
     "output_type": "stream",
     "text": [
      "UNIFED : ['MG' 'RJ' 'SC' 'SP' 'S.P.' 'BH']\n",
      "RESID : ['PROP' 'ALUG' nan 'OUTR' 'pROP']\n",
      "FONE : [1 0 2]\n",
      "ECIV : ['CAS' 'VIUVO' 'CASAD' 'DIVORC' 'SOLT' 'NI' 'OUTROS']\n",
      "INSTRU : ['SEC' 'SUP' nan 'PRIM']\n",
      "RST : ['sim' 'nao' 2]\n"
     ]
    }
   ],
   "source": [
    "colunas_qualitativas = ['UNIFED', 'RESID', 'FONE', 'ECIV', 'INSTRU', 'RST']\n",
    "\n",
    "# valores únicos de cada coluna qualitativa\n",
    "\n",
    "for coluna in colunas_qualitativas:\n",
    "    print(coluna, ':', table[coluna].unique())"
   ],
   "metadata": {
    "collapsed": false,
    "ExecuteTime": {
     "end_time": "2023-09-04T23:01:24.345226145Z",
     "start_time": "2023-09-04T23:01:24.341724043Z"
    }
   },
   "id": "9d3008af7e4a8f58"
  },
  {
   "cell_type": "code",
   "execution_count": 202,
   "outputs": [],
   "source": [
    "replace_map = {\n",
    "    'UNIFED': {'S.P.': 'SP', 'BH': 'MG'},\n",
    "    'RESID': {'pROP': 'PROP', np.nan: 'OUTR'},\n",
    "    'ECIV': {'CAS': 'CASAD', 'NI': 'OUTROS'},\n",
    "    'RST': {2: np.nan}\n",
    "}\n",
    "\n",
    "table.replace(replace_map, inplace=True)"
   ],
   "metadata": {
    "collapsed": false,
    "ExecuteTime": {
     "end_time": "2023-09-04T23:01:24.436324643Z",
     "start_time": "2023-09-04T23:01:24.347030680Z"
    }
   },
   "id": "d41ef4141281ca92"
  },
  {
   "cell_type": "code",
   "execution_count": 203,
   "outputs": [
    {
     "name": "stdout",
     "output_type": "stream",
     "text": [
      "UNIFED : ['MG' 'RJ' 'SC' 'SP']\n",
      "RESID : ['PROP' 'ALUG' 'OUTR']\n",
      "FONE : [1 0 2]\n",
      "ECIV : ['CASAD' 'VIUVO' 'DIVORC' 'SOLT' 'OUTROS']\n",
      "INSTRU : ['SEC' 'SUP' nan 'PRIM']\n",
      "RST : ['sim' 'nao' nan]\n"
     ]
    }
   ],
   "source": [
    "for coluna in colunas_qualitativas:\n",
    "    print(coluna, ':', table[coluna].unique())"
   ],
   "metadata": {
    "collapsed": false,
    "ExecuteTime": {
     "end_time": "2023-09-04T23:01:24.486877205Z",
     "start_time": "2023-09-04T23:01:24.393213493Z"
    }
   },
   "id": "9bc9c4d0c4ab23f8"
  },
  {
   "cell_type": "code",
   "execution_count": 204,
   "outputs": [
    {
     "data": {
      "text/plain": "<Figure size 1080x720 with 6 Axes>",
      "image/png": "[encoded data removed]"
     },
     "metadata": {
      "needs_background": "light"
     },
     "output_type": "display_data"
    }
   ],
   "source": [
    "# Calcule o número de linhas e colunas necessárias com base na quantidade de colunas qualitativas\n",
    "total_colunas = len(colunas_qualitativas)\n",
    "colunas_por_linha = 3\n",
    "total_linhas = math.ceil(total_colunas / colunas_por_linha)\n",
    "\n",
    "# Crie a figura e subplots\n",
    "fig, axs = plt.subplots(total_linhas, colunas_por_linha, figsize=(15, 5 * total_linhas))\n",
    "plt.subplots_adjust(hspace=0)\n",
    "\n",
    "# Itere pelas colunas qualitativas e plote os gráficos\n",
    "for i, coluna in enumerate(colunas_qualitativas):\n",
    "    linha = i // colunas_por_linha\n",
    "    coluna_subplot = i % colunas_por_linha\n",
    "    ax = axs[linha, coluna_subplot]\n",
    "\n",
    "    count_coluna = table[['CLIENTE', coluna]].groupby(by=coluna, as_index=False).count()\n",
    "    sns.barplot(data=count_coluna, x=coluna, y='CLIENTE', ax=ax)\n",
    "    ax.set_title(f'Gráfico para {coluna}')\n",
    "\n",
    "# Remova eixos vazios, se necessário\n",
    "if total_colunas % colunas_por_linha != 0:\n",
    "    for i in range(total_colunas, total_linhas * colunas_por_linha):\n",
    "        fig.delaxes(axs.flatten()[i])\n",
    "\n",
    "# Ajuste a disposição dos subplots\n",
    "plt.tight_layout()\n",
    "plt.show()\n"
   ],
   "metadata": {
    "collapsed": false,
    "ExecuteTime": {
     "end_time": "2023-09-04T23:01:25.128139899Z",
     "start_time": "2023-09-04T23:01:24.393349473Z"
    }
   },
   "id": "a8203747bf8c6f5a"
  },
  {
   "cell_type": "code",
   "execution_count": 205,
   "outputs": [
    {
     "data": {
      "text/plain": "             IDADE       TMPRSD         FONE        RNDTOT\ncount  2797.000000  2795.000000  2800.000000   2800.000000\nmean     42.402574    11.693739     0.929286   6645.136071\nstd      14.196867     9.026007     0.280355   1545.728336\nmin       0.000000     0.000000     0.000000   2239.000000\n25%      31.000000     5.000000     1.000000   5478.750000\n50%      40.000000    10.000000     1.000000   6500.500000\n75%      53.000000    16.000000     1.000000   7681.000000\nmax      89.000000    57.000000     2.000000  23258.000000",
      "text/html": "<div>\n<style scoped>\n    .dataframe tbody tr th:only-of-type {\n        vertical-align: middle;\n    }\n\n    .dataframe tbody tr th {\n        vertical-align: top;\n    }\n\n    .dataframe thead th {\n        text-align: right;\n    }\n</style>\n<table border=\"1\" class=\"dataframe\">\n  <thead>\n    <tr style=\"text-align: right;\">\n      <th></th>\n      <th>IDADE</th>\n      <th>TMPRSD</th>\n      <th>FONE</th>\n      <th>RNDTOT</th>\n    </tr>\n  </thead>\n  <tbody>\n    <tr>\n      <th>count</th>\n      <td>2797.000000</td>\n      <td>2795.000000</td>\n      <td>2800.000000</td>\n      <td>2800.000000</td>\n    </tr>\n    <tr>\n      <th>mean</th>\n      <td>42.402574</td>\n      <td>11.693739</td>\n      <td>0.929286</td>\n      <td>6645.136071</td>\n    </tr>\n    <tr>\n      <th>std</th>\n      <td>14.196867</td>\n      <td>9.026007</td>\n      <td>0.280355</td>\n      <td>1545.728336</td>\n    </tr>\n    <tr>\n      <th>min</th>\n      <td>0.000000</td>\n      <td>0.000000</td>\n      <td>0.000000</td>\n      <td>2239.000000</td>\n    </tr>\n    <tr>\n      <th>25%</th>\n      <td>31.000000</td>\n      <td>5.000000</td>\n      <td>1.000000</td>\n      <td>5478.750000</td>\n    </tr>\n    <tr>\n      <th>50%</th>\n      <td>40.000000</td>\n      <td>10.000000</td>\n      <td>1.000000</td>\n      <td>6500.500000</td>\n    </tr>\n    <tr>\n      <th>75%</th>\n      <td>53.000000</td>\n      <td>16.000000</td>\n      <td>1.000000</td>\n      <td>7681.000000</td>\n    </tr>\n    <tr>\n      <th>max</th>\n      <td>89.000000</td>\n      <td>57.000000</td>\n      <td>2.000000</td>\n      <td>23258.000000</td>\n    </tr>\n  </tbody>\n</table>\n</div>"
     },
     "execution_count": 205,
     "metadata": {},
     "output_type": "execute_result"
    }
   ],
   "source": [
    "table.describe()"
   ],
   "metadata": {
    "collapsed": false,
    "ExecuteTime": {
     "end_time": "2023-09-04T23:03:17.095730398Z",
     "start_time": "2023-09-04T23:03:16.901901662Z"
    }
   },
   "id": "5ab71427ba05934b"
  },
  {
   "cell_type": "code",
   "execution_count": null,
   "outputs": [],
   "source": [],
   "metadata": {
    "collapsed": false
   },
   "id": "db8d07c3c3779b1a"
  }
 ],
 "metadata": {
  "kernelspec": {
   "display_name": "Python 3 (ipykernel)",
   "language": "python",
   "name": "python3"
  },
  "language_info": {
   "codemirror_mode": {
    "name": "ipython",
    "version": 3
   },
   "file_extension": ".py",
   "mimetype": "text/x-python",
   "name": "python",
   "nbconvert_exporter": "python",
   "pygments_lexer": "ipython3",
   "version": "3.9.12"
  }
 },
 "nbformat": 4,
 "nbformat_minor": 5
}
